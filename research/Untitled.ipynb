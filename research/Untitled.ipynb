{
 "cells": [
  {
   "cell_type": "code",
   "execution_count": 1,
   "id": "ea2726a3",
   "metadata": {},
   "outputs": [
    {
     "name": "stdout",
     "output_type": "stream",
     "text": [
      "Collecting numpy\n",
      "  Using cached numpy-1.24.2-cp310-cp310-win_amd64.whl (14.8 MB)\n",
      "Collecting pandas\n",
      "  Downloading pandas-2.0.0-cp310-cp310-win_amd64.whl (11.2 MB)\n",
      "     ---------------------------------------- 0.0/11.2 MB ? eta -:--:--\n",
      "      --------------------------------------- 0.1/11.2 MB 4.3 MB/s eta 0:00:03\n",
      "     - -------------------------------------- 0.4/11.2 MB 4.6 MB/s eta 0:00:03\n",
      "     - -------------------------------------- 0.4/11.2 MB 4.0 MB/s eta 0:00:03\n",
      "     -- ------------------------------------- 0.7/11.2 MB 4.0 MB/s eta 0:00:03\n",
      "     ---- ----------------------------------- 1.4/11.2 MB 6.6 MB/s eta 0:00:02\n",
      "     ---- ----------------------------------- 1.4/11.2 MB 6.6 MB/s eta 0:00:02\n",
      "     ------- -------------------------------- 2.1/11.2 MB 6.6 MB/s eta 0:00:02\n",
      "     ------- -------------------------------- 2.2/11.2 MB 6.7 MB/s eta 0:00:02\n",
      "     ------- -------------------------------- 2.2/11.2 MB 6.7 MB/s eta 0:00:02\n",
      "     --------- ------------------------------ 2.8/11.2 MB 6.1 MB/s eta 0:00:02\n",
      "     ------------ --------------------------- 3.5/11.2 MB 7.0 MB/s eta 0:00:02\n",
      "     ------------ --------------------------- 3.5/11.2 MB 7.0 MB/s eta 0:00:02\n",
      "     ------------ --------------------------- 3.5/11.2 MB 7.0 MB/s eta 0:00:02\n",
      "     ------------ --------------------------- 3.5/11.2 MB 7.0 MB/s eta 0:00:02\n",
      "     ------------ --------------------------- 3.5/11.2 MB 7.0 MB/s eta 0:00:02\n",
      "     -------------- ------------------------- 4.0/11.2 MB 5.3 MB/s eta 0:00:02\n",
      "     ---------------- ----------------------- 4.7/11.2 MB 5.8 MB/s eta 0:00:02\n",
      "     ------------------ --------------------- 5.1/11.2 MB 5.9 MB/s eta 0:00:02\n",
      "     ------------------- -------------------- 5.4/11.2 MB 6.1 MB/s eta 0:00:01\n",
      "     -------------------- ------------------- 5.7/11.2 MB 6.1 MB/s eta 0:00:01\n",
      "     -------------------- ------------------- 5.7/11.2 MB 6.1 MB/s eta 0:00:01\n",
      "     -------------------- ------------------- 5.7/11.2 MB 6.1 MB/s eta 0:00:01\n",
      "     --------------------- ------------------ 6.1/11.2 MB 5.5 MB/s eta 0:00:01\n",
      "     ----------------------- ---------------- 6.7/11.2 MB 6.0 MB/s eta 0:00:01\n",
      "     ------------------------- -------------- 7.1/11.2 MB 6.0 MB/s eta 0:00:01\n",
      "     ------------------------- -------------- 7.3/11.2 MB 6.1 MB/s eta 0:00:01\n",
      "     ------------------------- -------------- 7.3/11.2 MB 6.1 MB/s eta 0:00:01\n",
      "     ------------------------- -------------- 7.3/11.2 MB 6.1 MB/s eta 0:00:01\n",
      "     ------------------------- -------------- 7.3/11.2 MB 6.1 MB/s eta 0:00:01\n",
      "     --------------------------- ------------ 7.8/11.2 MB 5.5 MB/s eta 0:00:01\n",
      "     ----------------------------- ---------- 8.4/11.2 MB 5.7 MB/s eta 0:00:01\n",
      "     ------------------------------ --------- 8.7/11.2 MB 5.8 MB/s eta 0:00:01\n",
      "     -------------------------------- ------- 9.1/11.2 MB 5.9 MB/s eta 0:00:01\n",
      "     ---------------------------------- ----- 9.6/11.2 MB 5.9 MB/s eta 0:00:01\n",
      "     ---------------------------------- ----- 9.8/11.2 MB 6.0 MB/s eta 0:00:01\n",
      "     ------------------------------------ --- 10.2/11.2 MB 6.1 MB/s eta 0:00:01\n",
      "     ---------------------------------------  11.1/11.2 MB 6.6 MB/s eta 0:00:01\n",
      "     ---------------------------------------  11.2/11.2 MB 6.6 MB/s eta 0:00:01\n",
      "     ---------------------------------------  11.2/11.2 MB 6.6 MB/s eta 0:00:01\n",
      "     ---------------------------------------- 11.2/11.2 MB 6.2 MB/s eta 0:00:00\n",
      "Collecting joblib\n",
      "  Using cached joblib-1.2.0-py3-none-any.whl (297 kB)\n",
      "Requirement already satisfied: python-dateutil>=2.8.2 in c:\\users\\dt\\desktop\\machineldjango\\my_ml_service1\\env\\lib\\site-packages (from pandas) (2.8.2)\n",
      "Requirement already satisfied: tzdata>=2022.1 in c:\\users\\dt\\desktop\\machineldjango\\my_ml_service1\\env\\lib\\site-packages (from pandas) (2023.3)\n",
      "Collecting pytz>=2020.1\n",
      "  Using cached pytz-2023.3-py2.py3-none-any.whl (502 kB)\n",
      "Requirement already satisfied: six>=1.5 in c:\\users\\dt\\desktop\\machineldjango\\my_ml_service1\\env\\lib\\site-packages (from python-dateutil>=2.8.2->pandas) (1.16.0)\n",
      "Installing collected packages: pytz, numpy, joblib, pandas\n",
      "Successfully installed joblib-1.2.0 numpy-1.24.2 pandas-2.0.0 pytz-2023.3\n",
      "Note: you may need to restart the kernel to use updated packages.\n"
     ]
    }
   ],
   "source": [
    "pip install numpy pandas joblib\n"
   ]
  },
  {
   "cell_type": "code",
   "execution_count": 4,
   "id": "b993cb49",
   "metadata": {},
   "outputs": [
    {
     "name": "stdout",
     "output_type": "stream",
     "text": [
      "Collecting scikit-learnNote: you may need to restart the kernel to use updated packages.\n",
      "\n",
      "  Using cached scikit_learn-1.2.2-cp310-cp310-win_amd64.whl (8.3 MB)\n",
      "Collecting scipy>=1.3.2\n",
      "  Using cached scipy-1.10.1-cp310-cp310-win_amd64.whl (42.5 MB)\n",
      "Requirement already satisfied: joblib>=1.1.1 in c:\\users\\dt\\desktop\\machineldjango\\my_ml_service1\\env\\lib\\site-packages (from scikit-learn) (1.2.0)\n",
      "Collecting threadpoolctl>=2.0.0\n",
      "  Using cached threadpoolctl-3.1.0-py3-none-any.whl (14 kB)\n",
      "Requirement already satisfied: numpy>=1.17.3 in c:\\users\\dt\\desktop\\machineldjango\\my_ml_service1\\env\\lib\\site-packages (from scikit-learn) (1.24.2)\n",
      "Installing collected packages: threadpoolctl, scipy, scikit-learn\n",
      "Successfully installed scikit-learn-1.2.2 scipy-1.10.1 threadpoolctl-3.1.0\n"
     ]
    }
   ],
   "source": [
    "pip install scikit-learn\n"
   ]
  },
  {
   "cell_type": "code",
   "execution_count": 5,
   "id": "6740f205",
   "metadata": {},
   "outputs": [],
   "source": [
    "import json # will be needed for saving preprocessing details\n",
    "import numpy as np # for data manipulation\n",
    "import pandas as pd # for data manipulation\n",
    "from sklearn.model_selection import train_test_split # will be used for data split\n",
    "from sklearn.preprocessing import LabelEncoder # for preprocessing\n",
    "from sklearn.ensemble import RandomForestClassifier # for training the algorithm\n",
    "from sklearn.ensemble import ExtraTreesClassifier # for training the algorithm\n",
    "import joblib # for saving algorithm and preprocessing objects"
   ]
  },
  {
   "cell_type": "code",
   "execution_count": 6,
   "id": "b16f2718",
   "metadata": {},
   "outputs": [
    {
     "data": {
      "text/html": [
       "<div>\n",
       "<style scoped>\n",
       "    .dataframe tbody tr th:only-of-type {\n",
       "        vertical-align: middle;\n",
       "    }\n",
       "\n",
       "    .dataframe tbody tr th {\n",
       "        vertical-align: top;\n",
       "    }\n",
       "\n",
       "    .dataframe thead th {\n",
       "        text-align: right;\n",
       "    }\n",
       "</style>\n",
       "<table border=\"1\" class=\"dataframe\">\n",
       "  <thead>\n",
       "    <tr style=\"text-align: right;\">\n",
       "      <th></th>\n",
       "      <th>age</th>\n",
       "      <th>workclass</th>\n",
       "      <th>fnlwgt</th>\n",
       "      <th>education</th>\n",
       "      <th>education-num</th>\n",
       "      <th>marital-status</th>\n",
       "      <th>occupation</th>\n",
       "      <th>relationship</th>\n",
       "      <th>race</th>\n",
       "      <th>sex</th>\n",
       "      <th>capital-gain</th>\n",
       "      <th>capital-loss</th>\n",
       "      <th>hours-per-week</th>\n",
       "      <th>native-country</th>\n",
       "      <th>income</th>\n",
       "    </tr>\n",
       "  </thead>\n",
       "  <tbody>\n",
       "    <tr>\n",
       "      <th>0</th>\n",
       "      <td>39</td>\n",
       "      <td>State-gov</td>\n",
       "      <td>77516</td>\n",
       "      <td>Bachelors</td>\n",
       "      <td>13</td>\n",
       "      <td>Never-married</td>\n",
       "      <td>Adm-clerical</td>\n",
       "      <td>Not-in-family</td>\n",
       "      <td>White</td>\n",
       "      <td>Male</td>\n",
       "      <td>2174</td>\n",
       "      <td>0</td>\n",
       "      <td>40</td>\n",
       "      <td>United-States</td>\n",
       "      <td>&lt;=50K</td>\n",
       "    </tr>\n",
       "    <tr>\n",
       "      <th>1</th>\n",
       "      <td>50</td>\n",
       "      <td>Self-emp-not-inc</td>\n",
       "      <td>83311</td>\n",
       "      <td>Bachelors</td>\n",
       "      <td>13</td>\n",
       "      <td>Married-civ-spouse</td>\n",
       "      <td>Exec-managerial</td>\n",
       "      <td>Husband</td>\n",
       "      <td>White</td>\n",
       "      <td>Male</td>\n",
       "      <td>0</td>\n",
       "      <td>0</td>\n",
       "      <td>13</td>\n",
       "      <td>United-States</td>\n",
       "      <td>&lt;=50K</td>\n",
       "    </tr>\n",
       "    <tr>\n",
       "      <th>2</th>\n",
       "      <td>38</td>\n",
       "      <td>Private</td>\n",
       "      <td>215646</td>\n",
       "      <td>HS-grad</td>\n",
       "      <td>9</td>\n",
       "      <td>Divorced</td>\n",
       "      <td>Handlers-cleaners</td>\n",
       "      <td>Not-in-family</td>\n",
       "      <td>White</td>\n",
       "      <td>Male</td>\n",
       "      <td>0</td>\n",
       "      <td>0</td>\n",
       "      <td>40</td>\n",
       "      <td>United-States</td>\n",
       "      <td>&lt;=50K</td>\n",
       "    </tr>\n",
       "    <tr>\n",
       "      <th>3</th>\n",
       "      <td>53</td>\n",
       "      <td>Private</td>\n",
       "      <td>234721</td>\n",
       "      <td>11th</td>\n",
       "      <td>7</td>\n",
       "      <td>Married-civ-spouse</td>\n",
       "      <td>Handlers-cleaners</td>\n",
       "      <td>Husband</td>\n",
       "      <td>Black</td>\n",
       "      <td>Male</td>\n",
       "      <td>0</td>\n",
       "      <td>0</td>\n",
       "      <td>40</td>\n",
       "      <td>United-States</td>\n",
       "      <td>&lt;=50K</td>\n",
       "    </tr>\n",
       "    <tr>\n",
       "      <th>4</th>\n",
       "      <td>28</td>\n",
       "      <td>Private</td>\n",
       "      <td>338409</td>\n",
       "      <td>Bachelors</td>\n",
       "      <td>13</td>\n",
       "      <td>Married-civ-spouse</td>\n",
       "      <td>Prof-specialty</td>\n",
       "      <td>Wife</td>\n",
       "      <td>Black</td>\n",
       "      <td>Female</td>\n",
       "      <td>0</td>\n",
       "      <td>0</td>\n",
       "      <td>40</td>\n",
       "      <td>Cuba</td>\n",
       "      <td>&lt;=50K</td>\n",
       "    </tr>\n",
       "  </tbody>\n",
       "</table>\n",
       "</div>"
      ],
      "text/plain": [
       "   age         workclass  fnlwgt  education  education-num   \n",
       "0   39         State-gov   77516  Bachelors             13  \\\n",
       "1   50  Self-emp-not-inc   83311  Bachelors             13   \n",
       "2   38           Private  215646    HS-grad              9   \n",
       "3   53           Private  234721       11th              7   \n",
       "4   28           Private  338409  Bachelors             13   \n",
       "\n",
       "       marital-status         occupation   relationship   race     sex   \n",
       "0       Never-married       Adm-clerical  Not-in-family  White    Male  \\\n",
       "1  Married-civ-spouse    Exec-managerial        Husband  White    Male   \n",
       "2            Divorced  Handlers-cleaners  Not-in-family  White    Male   \n",
       "3  Married-civ-spouse  Handlers-cleaners        Husband  Black    Male   \n",
       "4  Married-civ-spouse     Prof-specialty           Wife  Black  Female   \n",
       "\n",
       "   capital-gain  capital-loss  hours-per-week native-country income  \n",
       "0          2174             0              40  United-States  <=50K  \n",
       "1             0             0              13  United-States  <=50K  \n",
       "2             0             0              40  United-States  <=50K  \n",
       "3             0             0              40  United-States  <=50K  \n",
       "4             0             0              40           Cuba  <=50K  "
      ]
     },
     "execution_count": 6,
     "metadata": {},
     "output_type": "execute_result"
    }
   ],
   "source": [
    "# load dataset\n",
    "df = pd.read_csv('https://raw.githubusercontent.com/pplonski/datasets-for-start/master/adult/data.csv', skipinitialspace=True)\n",
    "x_cols = [c for c in df.columns if c != 'income']\n",
    "# set input matrix and target column\n",
    "X = df[x_cols]\n",
    "y = df['income']\n",
    "# show first rows of data\n",
    "df.head()"
   ]
  },
  {
   "cell_type": "code",
   "execution_count": 7,
   "id": "880b35a2",
   "metadata": {},
   "outputs": [],
   "source": [
    "# data split train / test\n",
    "X_train, X_test, y_train, y_test = train_test_split(X, y, test_size = 0.3, random_state=1234)"
   ]
  },
  {
   "cell_type": "code",
   "execution_count": 8,
   "id": "4098e35b",
   "metadata": {},
   "outputs": [
    {
     "name": "stdout",
     "output_type": "stream",
     "text": [
      "{'age': 31.0, 'workclass': 'Private', 'fnlwgt': 121124, 'education': 'HS-grad', 'education-num': 9.0, 'marital-status': 'Married-civ-spouse', 'occupation': 'Prof-specialty', 'relationship': 'Husband', 'race': 'White', 'sex': 'Male', 'capital-gain': 0.0, 'capital-loss': 0.0, 'hours-per-week': 40.0, 'native-country': 'United-States'}\n"
     ]
    }
   ],
   "source": [
    "# fill missing values\n",
    "train_mode = dict(X_train.mode().iloc[0])\n",
    "X_train = X_train.fillna(train_mode)\n",
    "print(train_mode)"
   ]
  },
  {
   "cell_type": "code",
   "execution_count": 10,
   "id": "e0f1b096",
   "metadata": {},
   "outputs": [],
   "source": [
    "# convert categoricals\n",
    "encoders = {}\n",
    "for column in ['workclass', 'education', 'marital-status',\n",
    "                'occupation', 'relationship', 'race',\n",
    "                'sex','native-country']:\n",
    "    categorical_convert = LabelEncoder()\n",
    "    X_train[column] = categorical_convert.fit_transform(X_train[column])\n",
    "    encoders[column] = categorical_convert"
   ]
  },
  {
   "cell_type": "code",
   "execution_count": 11,
   "id": "58cb2f86",
   "metadata": {},
   "outputs": [],
   "source": [
    "# train the Random Forest algorithm\n",
    "rf = RandomForestClassifier(n_estimators = 100)\n",
    "rf = rf.fit(X_train, y_train)"
   ]
  },
  {
   "cell_type": "code",
   "execution_count": 12,
   "id": "25492224",
   "metadata": {},
   "outputs": [],
   "source": [
    "# train the Extra Trees algorithm\n",
    "et = ExtraTreesClassifier(n_estimators = 100)\n",
    "et = et.fit(X_train, y_train)"
   ]
  },
  {
   "cell_type": "code",
   "execution_count": 14,
   "id": "27a2a929",
   "metadata": {},
   "outputs": [
    {
     "data": {
      "text/plain": [
       "['./extra_trees.joblib']"
      ]
     },
     "execution_count": 14,
     "metadata": {},
     "output_type": "execute_result"
    }
   ],
   "source": [
    " #save preprocessing objects and RF algorithm\n",
    "joblib.dump(train_mode, \"./train_mode.joblib\", compress=True)\n",
    "joblib.dump(encoders, \"./encoders.joblib\", compress=True)\n",
    "joblib.dump(rf, \"./random_forest.joblib\", compress=True)\n",
    "joblib.dump(et, \"./extra_trees.joblib\", compress=True)\n"
   ]
  },
  {
   "cell_type": "code",
   "execution_count": null,
   "id": "223a75eb",
   "metadata": {},
   "outputs": [],
   "source": []
  }
 ],
 "metadata": {
  "kernelspec": {
   "display_name": "Python 3 (ipykernel)",
   "language": "python",
   "name": "python3"
  },
  "language_info": {
   "codemirror_mode": {
    "name": "ipython",
    "version": 3
   },
   "file_extension": ".py",
   "mimetype": "text/x-python",
   "name": "python",
   "nbconvert_exporter": "python",
   "pygments_lexer": "ipython3",
   "version": "3.10.11"
  }
 },
 "nbformat": 4,
 "nbformat_minor": 5
}
